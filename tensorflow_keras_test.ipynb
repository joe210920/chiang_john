{
  "nbformat": 4,
  "nbformat_minor": 0,
  "metadata": {
    "colab": {
      "name": "tensorflow-keras-test.ipynb",
      "provenance": [],
      "collapsed_sections": []
    },
    "kernelspec": {
      "name": "python3",
      "display_name": "Python 3"
    },
    "accelerator": "GPU"
  },
  "cells": [
    {
      "cell_type": "code",
      "metadata": {
        "id": "FUGw3ESjmen5",
        "colab_type": "code",
        "colab": {
          "base_uri": "https://localhost:8080/",
          "height": 34
        },
        "outputId": "61cb8170-54a3-4484-d45f-123650ff7d44"
      },
      "source": [
        " ! pip install tensorflow #安裝tensorflow"
      ],
      "execution_count": 1,
      "outputs": [
        {
          "output_type": "stream",
          "text": [
            "^C\n"
          ],
          "name": "stdout"
        }
      ]
    },
    {
      "cell_type": "code",
      "metadata": {
        "id": "kdwQ_izDnFVj",
        "colab_type": "code",
        "colab": {
          "base_uri": "https://localhost:8080/",
          "height": 35
        },
        "outputId": "1b023823-9c49-49d9-8c3f-44d6306c636a"
      },
      "source": [
        "import tensorflow as tf #查看tendorflow版本\n",
        "tf.__version__"
      ],
      "execution_count": 8,
      "outputs": [
        {
          "output_type": "execute_result",
          "data": {
            "application/vnd.google.colaboratory.intrinsic": {
              "type": "string"
            },
            "text/plain": [
              "'2.2.0'"
            ]
          },
          "metadata": {
            "tags": []
          },
          "execution_count": 8
        }
      ]
    },
    {
      "cell_type": "markdown",
      "metadata": {
        "id": "DuCpeJQ1n-6X",
        "colab_type": "text"
      },
      "source": [
        "##用六行建構一個神經網路"
      ]
    },
    {
      "cell_type": "code",
      "metadata": {
        "id": "bJiUJYgQoJ61",
        "colab_type": "code",
        "colab": {}
      },
      "source": [
        "from tensorflow.keras.models import Sequential\n",
        "from tensorflow.keras.layers import Dense\n",
        "\n",
        "model = Sequential()\n",
        "model.add(Dense(4, activation = 'relu', input_dim = 3 )) #加入第一層,輸入為3\n",
        "model.add(Dense(1, activation = 'sigmoid'))  #加入第二層 為使用sigmoid的啟動函數，只有一個神經元，\n",
        "model.compile(optimizer = 'rmsprop',  #以指定的參數編譯模型      \n",
        "              loss = 'binary_crossentropy',\n",
        "              metrics = ['accuracy']\n",
        "              )"
      ],
      "execution_count": 35,
      "outputs": []
    },
    {
      "cell_type": "code",
      "metadata": {
        "id": "uE6yBSTPo_t-",
        "colab_type": "code",
        "colab": {
          "base_uri": "https://localhost:8080/",
          "height": 353
        },
        "outputId": "b62a05a5-2c23-4bd5-ed3a-87bc23bb1c74"
      },
      "source": [
        "! nvidia-smi"
      ],
      "execution_count": 36,
      "outputs": [
        {
          "output_type": "stream",
          "text": [
            "Sun Jul  5 16:38:46 2020       \n",
            "+-----------------------------------------------------------------------------+\n",
            "| NVIDIA-SMI 450.36.06    Driver Version: 418.67       CUDA Version: 10.1     |\n",
            "|-------------------------------+----------------------+----------------------+\n",
            "| GPU  Name        Persistence-M| Bus-Id        Disp.A | Volatile Uncorr. ECC |\n",
            "| Fan  Temp  Perf  Pwr:Usage/Cap|         Memory-Usage | GPU-Util  Compute M. |\n",
            "|                               |                      |               MIG M. |\n",
            "|===============================+======================+======================|\n",
            "|   0  Tesla K80           Off  | 00000000:00:04.0 Off |                    0 |\n",
            "| N/A   42C    P0    62W / 149W |    169MiB / 11441MiB |      0%      Default |\n",
            "|                               |                      |                 ERR! |\n",
            "+-------------------------------+----------------------+----------------------+\n",
            "                                                                               \n",
            "+-----------------------------------------------------------------------------+\n",
            "| Processes:                                                                  |\n",
            "|  GPU   GI   CI        PID   Type   Process name                  GPU Memory |\n",
            "|        ID   ID                                                   Usage      |\n",
            "|=============================================================================|\n",
            "|  No running processes found                                                 |\n",
            "+-----------------------------------------------------------------------------+\n"
          ],
          "name": "stdout"
        }
      ]
    },
    {
      "cell_type": "code",
      "metadata": {
        "id": "bCTKqUQZ0RW8",
        "colab_type": "code",
        "colab": {}
      },
      "source": [
        ""
      ],
      "execution_count": null,
      "outputs": []
    },
    {
      "cell_type": "markdown",
      "metadata": {
        "id": "KkGZytMg2DBC",
        "colab_type": "text"
      },
      "source": [
        "#訓練神經網路的流程-以辨識手寫數字為例"
      ]
    },
    {
      "cell_type": "markdown",
      "metadata": {
        "id": "NmRkFeU02WHR",
        "colab_type": "text"
      },
      "source": [
        "##準備訓練所需資料\n"
      ]
    },
    {
      "cell_type": "markdown",
      "metadata": {
        "id": "zcq8VjDy22f4",
        "colab_type": "text"
      },
      "source": [
        "###載入MINST資料集"
      ]
    },
    {
      "cell_type": "code",
      "metadata": {
        "id": "L-0z2L2v2Swk",
        "colab_type": "code",
        "colab": {}
      },
      "source": [
        "from tensorflow.keras.datasets import mnist\n",
        "\n",
        "(train_images, train_labels), (test_images, test_labels) = mnist.load_data()"
      ],
      "execution_count": 37,
      "outputs": []
    },
    {
      "cell_type": "code",
      "metadata": {
        "id": "xQtFp61v31cJ",
        "colab_type": "code",
        "colab": {}
      },
      "source": [
        "train_images[0]"
      ],
      "execution_count": null,
      "outputs": []
    },
    {
      "cell_type": "code",
      "metadata": {
        "id": "U2RR2zws4bzw",
        "colab_type": "code",
        "colab": {}
      },
      "source": [
        "train_images.shape"
      ],
      "execution_count": null,
      "outputs": []
    },
    {
      "cell_type": "code",
      "metadata": {
        "id": "DX1CVRcA4k8d",
        "colab_type": "code",
        "colab": {
          "base_uri": "https://localhost:8080/",
          "height": 34
        },
        "outputId": "df93edae-5855-467e-f5c0-a74d45d39bb5"
      },
      "source": [
        "train_labels[0] #第0個訓練標籤是5"
      ],
      "execution_count": 41,
      "outputs": [
        {
          "output_type": "execute_result",
          "data": {
            "text/plain": [
              "5"
            ]
          },
          "metadata": {
            "tags": []
          },
          "execution_count": 41
        }
      ]
    },
    {
      "cell_type": "markdown",
      "metadata": {
        "id": "p6UhCD3C5lOJ",
        "colab_type": "text"
      },
      "source": [
        "###畫出手寫圖片"
      ]
    },
    {
      "cell_type": "code",
      "metadata": {
        "id": "j4cxBrsD4tAd",
        "colab_type": "code",
        "colab": {
          "base_uri": "https://localhost:8080/",
          "height": 205
        },
        "outputId": "421d2665-2d7a-457d-9165-5988bacfaf36"
      },
      "source": [
        "import matplotlib.pyplot as plt\n",
        "\n",
        "plt.gcf().set_size_inches(15, 4) #設定圖形的寬與高(英吋)\n",
        "\n",
        "for i in range(5):\n",
        "  ax = plt.subplot(1, 5, 1 + i) #設定1X5的子圖表,目前要畫第1 + i 個\n",
        "  ax.imshow(train_images[i], cmap = 'gray') #顯示黑底白字\n",
        "  ax.set_title('lable = ' + str(train_labels[i]), fontsize = 8) #設定標題\n",
        "\n",
        "\n",
        "plt.show() #將圖形顯示\n"
      ],
      "execution_count": 42,
      "outputs": [
        {
          "output_type": "display_data",
          "data": {
            "image/png": "[encoded data removed]",
            "text/plain": [
              "<Figure size 1080x288 with 5 Axes>"
            ]
          },
          "metadata": {
            "tags": [],
            "needs_background": "light"
          }
        }
      ]
    },
    {
      "cell_type": "code",
      "metadata": {
        "id": "T2rNHsvO8Ve-",
        "colab_type": "code",
        "colab": {
          "base_uri": "https://localhost:8080/",
          "height": 34
        },
        "outputId": "b5020d1a-0d6d-434c-b035-840a3bebb7c8"
      },
      "source": [
        "test_images.shape"
      ],
      "execution_count": 43,
      "outputs": [
        {
          "output_type": "execute_result",
          "data": {
            "text/plain": [
              "(10000, 28, 28)"
            ]
          },
          "metadata": {
            "tags": []
          },
          "execution_count": 43
        }
      ]
    },
    {
      "cell_type": "markdown",
      "metadata": {
        "id": "p-aUvunJ8tHX",
        "colab_type": "text"
      },
      "source": [
        "###資料預處理\n"
      ]
    },
    {
      "cell_type": "code",
      "metadata": {
        "id": "4Q_JsiXg80Nw",
        "colab_type": "code",
        "colab": {}
      },
      "source": [
        "x_train = train_images.reshape(60000, (28 * 28))\n",
        "x_train = x_train.astype('float32') / 255 #將0~255的向素值轉成0~1的浮點數\n",
        "\n",
        "x_test = test_images.reshape(10000, (28 *28))\n",
        "x_test = x_test.astype('float32') /255"
      ],
      "execution_count": 44,
      "outputs": []
    },
    {
      "cell_type": "code",
      "metadata": {
        "id": "oeGcOHfU9Gxa",
        "colab_type": "code",
        "colab": {
          "base_uri": "https://localhost:8080/",
          "height": 134
        },
        "outputId": "fb9b8260-c93e-4fed-d94c-b7bcc6a9efe3"
      },
      "source": [
        "x_train"
      ],
      "execution_count": 45,
      "outputs": [
        {
          "output_type": "execute_result",
          "data": {
            "text/plain": [
              "array([[0., 0., 0., ..., 0., 0., 0.],\n",
              "       [0., 0., 0., ..., 0., 0., 0.],\n",
              "       [0., 0., 0., ..., 0., 0., 0.],\n",
              "       ...,\n",
              "       [0., 0., 0., ..., 0., 0., 0.],\n",
              "       [0., 0., 0., ..., 0., 0., 0.],\n",
              "       [0., 0., 0., ..., 0., 0., 0.]], dtype=float32)"
            ]
          },
          "metadata": {
            "tags": []
          },
          "execution_count": 45
        }
      ]
    },
    {
      "cell_type": "code",
      "metadata": {
        "id": "6hWqbEJd-upT",
        "colab_type": "code",
        "colab": {
          "base_uri": "https://localhost:8080/",
          "height": 34
        },
        "outputId": "063d3afd-7f99-4cba-8ad4-5f61129c0b31"
      },
      "source": [
        "x_test.shape"
      ],
      "execution_count": 46,
      "outputs": [
        {
          "output_type": "execute_result",
          "data": {
            "text/plain": [
              "(10000, 784)"
            ]
          },
          "metadata": {
            "tags": []
          },
          "execution_count": 46
        }
      ]
    },
    {
      "cell_type": "code",
      "metadata": {
        "id": "crQ8K6Kg--K-",
        "colab_type": "code",
        "colab": {}
      },
      "source": [
        ""
      ],
      "execution_count": null,
      "outputs": []
    },
    {
      "cell_type": "markdown",
      "metadata": {
        "id": "aJuEFSCf_J7H",
        "colab_type": "text"
      },
      "source": [
        "###預處理標籤資料"
      ]
    },
    {
      "cell_type": "code",
      "metadata": {
        "id": "QqEt1jDN_Ozx",
        "colab_type": "code",
        "colab": {}
      },
      "source": [
        "from keras.utils import to_categorical\n",
        "\n",
        "y_train = to_categorical(train_labels)\n",
        "y_test = to_categorical(test_labels)\n"
      ],
      "execution_count": 47,
      "outputs": []
    },
    {
      "cell_type": "code",
      "metadata": {
        "id": "sj46sUKDAE0A",
        "colab_type": "code",
        "colab": {
          "base_uri": "https://localhost:8080/",
          "height": 34
        },
        "outputId": "e300d694-dd33-43d3-b06d-b5a1ee1104c7"
      },
      "source": [
        "y_train[0]"
      ],
      "execution_count": 48,
      "outputs": [
        {
          "output_type": "execute_result",
          "data": {
            "text/plain": [
              "array([0., 0., 0., 0., 0., 1., 0., 0., 0., 0.], dtype=float32)"
            ]
          },
          "metadata": {
            "tags": []
          },
          "execution_count": 48
        }
      ]
    },
    {
      "cell_type": "code",
      "metadata": {
        "id": "7T7NBY7AAJ9-",
        "colab_type": "code",
        "colab": {
          "base_uri": "https://localhost:8080/",
          "height": 34
        },
        "outputId": "49e4eb12-ed54-457c-e015-78f63185ebb0"
      },
      "source": [
        "y_train.shape\n"
      ],
      "execution_count": 49,
      "outputs": [
        {
          "output_type": "execute_result",
          "data": {
            "text/plain": [
              "(60000, 10)"
            ]
          },
          "metadata": {
            "tags": []
          },
          "execution_count": 49
        }
      ]
    },
    {
      "cell_type": "code",
      "metadata": {
        "id": "kurAtRuFAOJk",
        "colab_type": "code",
        "colab": {
          "base_uri": "https://localhost:8080/",
          "height": 34
        },
        "outputId": "0da28b61-4c2f-4e87-fa3c-a23e9c4f7379"
      },
      "source": [
        "y_test.shape"
      ],
      "execution_count": null,
      "outputs": [
        {
          "output_type": "execute_result",
          "data": {
            "text/plain": [
              "(10000, 10)"
            ]
          },
          "metadata": {
            "tags": []
          },
          "execution_count": 43
        }
      ]
    },
    {
      "cell_type": "code",
      "metadata": {
        "id": "xSE7ck-GAS13",
        "colab_type": "code",
        "colab": {}
      },
      "source": [
        ""
      ],
      "execution_count": null,
      "outputs": []
    },
    {
      "cell_type": "code",
      "metadata": {
        "id": "Nvcc8018nzVq",
        "colab_type": "code",
        "colab": {}
      },
      "source": [
        ""
      ],
      "execution_count": null,
      "outputs": []
    },
    {
      "cell_type": "markdown",
      "metadata": {
        "id": "YVxbqb7YAZgk",
        "colab_type": "text"
      },
      "source": [
        "##建立多元分類模型"
      ]
    },
    {
      "cell_type": "code",
      "metadata": {
        "id": "KEoDCt9dAefO",
        "colab_type": "code",
        "colab": {}
      },
      "source": [
        "from tensorflow.keras.models import Sequential #匯入kerse序列模型\n",
        "from tensorflow.keras.layers import Dense #匯入kerse的密集層類別\n",
        "\n",
        "model = Sequential()\n",
        "model.add(Dense(512, activation = 'relu', input_dim = 784))\n",
        "model.add(Dense(10, activation = 'softmax'))\n",
        "model.compile(optimizer = 'rmsprop',\n",
        "              loss = 'categorical_crossentropy',\n",
        "              metrics = ['accuracy']\n",
        "             )\n"
      ],
      "execution_count": 50,
      "outputs": []
    },
    {
      "cell_type": "code",
      "metadata": {
        "id": "7E__sWAUDJA9",
        "colab_type": "code",
        "colab": {
          "base_uri": "https://localhost:8080/",
          "height": 218
        },
        "outputId": "a0334c4d-ad12-4957-e730-187b2dfd2f08"
      },
      "source": [
        "model.summary()"
      ],
      "execution_count": 51,
      "outputs": [
        {
          "output_type": "stream",
          "text": [
            "Model: \"sequential_4\"\n",
            "_________________________________________________________________\n",
            "Layer (type)                 Output Shape              Param #   \n",
            "=================================================================\n",
            "dense_8 (Dense)              (None, 512)               401920    \n",
            "_________________________________________________________________\n",
            "dense_9 (Dense)              (None, 10)                5130      \n",
            "=================================================================\n",
            "Total params: 407,050\n",
            "Trainable params: 407,050\n",
            "Non-trainable params: 0\n",
            "_________________________________________________________________\n"
          ],
          "name": "stdout"
        }
      ]
    },
    {
      "cell_type": "code",
      "metadata": {
        "id": "7AMtoO3hEEjr",
        "colab_type": "code",
        "colab": {}
      },
      "source": [
        ""
      ],
      "execution_count": null,
      "outputs": []
    },
    {
      "cell_type": "markdown",
      "metadata": {
        "id": "b1CIOgEtEGF1",
        "colab_type": "text"
      },
      "source": [
        "###訓練模型"
      ]
    },
    {
      "cell_type": "code",
      "metadata": {
        "id": "-eulVx9lEKLM",
        "colab_type": "code",
        "colab": {
          "base_uri": "https://localhost:8080/",
          "height": 185
        },
        "outputId": "e9edaa43-f46b-4075-a743-6570a22f3207"
      },
      "source": [
        "history = model.fit(x_train, y_train, epochs = 5, batch_size = 128) #epochs為設定訓練次數,batch_size為每次提取資料筆數"
      ],
      "execution_count": 52,
      "outputs": [
        {
          "output_type": "stream",
          "text": [
            "Epoch 1/5\n",
            "469/469 [==============================] - 2s 4ms/step - loss: 0.2541 - accuracy: 0.9264\n",
            "Epoch 2/5\n",
            "469/469 [==============================] - 2s 4ms/step - loss: 0.1033 - accuracy: 0.9695\n",
            "Epoch 3/5\n",
            "469/469 [==============================] - 2s 4ms/step - loss: 0.0693 - accuracy: 0.9789\n",
            "Epoch 4/5\n",
            "469/469 [==============================] - 2s 4ms/step - loss: 0.0490 - accuracy: 0.9854\n",
            "Epoch 5/5\n",
            "469/469 [==============================] - 2s 4ms/step - loss: 0.0374 - accuracy: 0.9887\n"
          ],
          "name": "stdout"
        }
      ]
    },
    {
      "cell_type": "code",
      "metadata": {
        "id": "DHHlA4_dFE6q",
        "colab_type": "code",
        "colab": {}
      },
      "source": [
        ""
      ],
      "execution_count": null,
      "outputs": []
    },
    {
      "cell_type": "markdown",
      "metadata": {
        "id": "1p_00CZPsbZC",
        "colab_type": "text"
      },
      "source": [
        "###評估模型成效\n"
      ]
    },
    {
      "cell_type": "code",
      "metadata": {
        "id": "s3YnvGLdsf6-",
        "colab_type": "code",
        "colab": {
          "base_uri": "https://localhost:8080/",
          "height": 50
        },
        "outputId": "972ee9b8-a919-444b-a3b1-93f5da882248"
      },
      "source": [
        "test_loss, test_acc = model.evaluate(x_test, y_test)\n",
        "print('對測試資料集的準確率:', test_acc)"
      ],
      "execution_count": 53,
      "outputs": [
        {
          "output_type": "stream",
          "text": [
            "313/313 [==============================] - 1s 3ms/step - loss: 0.0711 - accuracy: 0.9789\n",
            "對測試資料集的準確率: 0.9789000153541565\n"
          ],
          "name": "stdout"
        }
      ]
    },
    {
      "cell_type": "markdown",
      "metadata": {
        "id": "egXSDNFbtONC",
        "colab_type": "text"
      },
      "source": [
        "###用模型預測答案\n"
      ]
    },
    {
      "cell_type": "code",
      "metadata": {
        "id": "v709zs6_tYjR",
        "colab_type": "code",
        "colab": {
          "base_uri": "https://localhost:8080/",
          "height": 134
        },
        "outputId": "79c4b983-1d03-458f-b935-9ae1f8610df3"
      },
      "source": [
        "import numpy as np\n",
        "predict = model.predict(x_test)\n",
        "predict.round(1) #顯示四捨五入到小數第一位的預測結果"
      ],
      "execution_count": 54,
      "outputs": [
        {
          "output_type": "execute_result",
          "data": {
            "text/plain": [
              "array([[0., 0., 0., ..., 1., 0., 0.],\n",
              "       [0., 0., 1., ..., 0., 0., 0.],\n",
              "       [0., 1., 0., ..., 0., 0., 0.],\n",
              "       ...,\n",
              "       [0., 0., 0., ..., 0., 0., 0.],\n",
              "       [0., 0., 0., ..., 0., 0., 0.],\n",
              "       [0., 0., 0., ..., 0., 0., 0.]], dtype=float32)"
            ]
          },
          "metadata": {
            "tags": []
          },
          "execution_count": 54
        }
      ]
    },
    {
      "cell_type": "code",
      "metadata": {
        "id": "-IIkikW_tw0D",
        "colab_type": "code",
        "colab": {
          "base_uri": "https://localhost:8080/",
          "height": 34
        },
        "outputId": "be7f985f-da54-40f2-8c3d-6c3ead778dd8"
      },
      "source": [
        "#若要直接傳回預測數字可使用predict_classes\n",
        "\n",
        "predict = model.predict_classes(x_test)\n",
        "predict"
      ],
      "execution_count": 55,
      "outputs": [
        {
          "output_type": "execute_result",
          "data": {
            "text/plain": [
              "array([7, 2, 1, ..., 4, 5, 6])"
            ]
          },
          "metadata": {
            "tags": []
          },
          "execution_count": 55
        }
      ]
    },
    {
      "cell_type": "code",
      "metadata": {
        "id": "g6z7LugUu1KW",
        "colab_type": "code",
        "colab": {
          "base_uri": "https://localhost:8080/",
          "height": 34
        },
        "outputId": "2fbdb927-3b80-4afc-8a78-8a8cc8e6ab11"
      },
      "source": [
        "test_labels"
      ],
      "execution_count": 56,
      "outputs": [
        {
          "output_type": "execute_result",
          "data": {
            "text/plain": [
              "array([7, 2, 1, ..., 4, 5, 6], dtype=uint8)"
            ]
          },
          "metadata": {
            "tags": []
          },
          "execution_count": 56
        }
      ]
    },
    {
      "cell_type": "code",
      "metadata": {
        "id": "JIoXG9FfvEte",
        "colab_type": "code",
        "colab": {}
      },
      "source": [
        ""
      ],
      "execution_count": null,
      "outputs": []
    },
    {
      "cell_type": "markdown",
      "metadata": {
        "id": "xTuRRnWtvMmN",
        "colab_type": "text"
      },
      "source": [
        "###畫出圖片並標示預測結果與標準答案"
      ]
    },
    {
      "cell_type": "code",
      "metadata": {
        "id": "mcINre6BvY8C",
        "colab_type": "code",
        "colab": {
          "base_uri": "https://localhost:8080/",
          "height": 220
        },
        "outputId": "1b1f4911-5e73-460a-bc4c-3a4592c86c0c"
      },
      "source": [
        "predict = model.predict_classes(x_test)\n",
        "\n",
        "plt.gcf().set_size_inches(15, 4)\n",
        "\n",
        "for i in range(5):\n",
        "  ax = plt.subplot(1, 5, 1 + i)\n",
        "  ax.imshow(test_images[i], cmap = 'binary') #白底黑字\n",
        "  ax.set_title('lable = ' + str(test_labels[i]) + '\\npredi = ' + str(predict[i]), fontsize = 18)\n",
        "  ax.set_xticks([]); ax.set_yticks([]) #xy不顯示刻度\n",
        "\n",
        "plt.show()"
      ],
      "execution_count": 57,
      "outputs": [
        {
          "output_type": "display_data",
          "data": {
            "image/png": "[encoded data removed]",
            "text/plain": [
              "<Figure size 1080x288 with 5 Axes>"
            ]
          },
          "metadata": {
            "tags": []
          }
        }
      ]
    },
    {
      "cell_type": "code",
      "metadata": {
        "id": "zVeEpgkqxrP7",
        "colab_type": "code",
        "colab": {}
      },
      "source": [
        ""
      ],
      "execution_count": null,
      "outputs": []
    },
    {
      "cell_type": "markdown",
      "metadata": {
        "id": "_MvoCw9Axv-I",
        "colab_type": "text"
      },
      "source": [
        "###將模型存檔"
      ]
    },
    {
      "cell_type": "code",
      "metadata": {
        "id": "2Ud6k9xex1Ti",
        "colab_type": "code",
        "colab": {}
      },
      "source": [
        "model.save('MnistModel.h5')"
      ],
      "execution_count": 34,
      "outputs": []
    },
    {
      "cell_type": "code",
      "metadata": {
        "id": "oTk7wBsXyCi_",
        "colab_type": "code",
        "colab": {}
      },
      "source": [
        ""
      ],
      "execution_count": null,
      "outputs": []
    },
    {
      "cell_type": "markdown",
      "metadata": {
        "id": "hj-OE4IryIpR",
        "colab_type": "text"
      },
      "source": [
        "###由檔案載入，並使用模型\n"
      ]
    },
    {
      "cell_type": "code",
      "metadata": {
        "id": "SXGV5sl6y3Ge",
        "colab_type": "code",
        "colab": {
          "base_uri": "https://localhost:8080/",
          "height": 50
        },
        "outputId": "22c57748-9f61-4241-9503-71b37ae36c91"
      },
      "source": [
        "from tensorflow.keras.datasets import mnist\n",
        "from tensorflow.keras.utils import to_categorical\n",
        "from tensorflow.keras.models import load_model\n",
        "\n",
        "\n",
        "model = load_model('MnistModel.h5') #由檔案載入模型 \n",
        "\n",
        "(_,_), (test_images, test_labels) = mnist.load_data() #載入MNIST資料集\n",
        "\n",
        "x_test = test_images.reshape(10000, 28 * 28)\n",
        "x_test = x_test.astype('float32') / 255\n",
        "y_test = to_categorical(test_labels) #預處理測試標籤\n",
        "\n",
        "test_loss, test_acc = model.evaluate(x_test, y_test) #用測試資料評估模型\n",
        "print('對測試資料的準確率:', test_acc)"
      ],
      "execution_count": 64,
      "outputs": [
        {
          "output_type": "stream",
          "text": [
            "313/313 [==============================] - 1s 3ms/step - loss: 0.0735 - accuracy: 0.9780\n",
            "對測試資料的準確率: 0.9779999852180481\n"
          ],
          "name": "stdout"
        }
      ]
    },
    {
      "cell_type": "code",
      "metadata": {
        "id": "CGNVEsxC3IZL",
        "colab_type": "code",
        "colab": {}
      },
      "source": [
        ""
      ],
      "execution_count": null,
      "outputs": []
    }
  ]
}